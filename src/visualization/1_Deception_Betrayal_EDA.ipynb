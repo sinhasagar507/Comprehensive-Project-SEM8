{
  "nbformat": 4,
  "nbformat_minor": 0,
  "metadata": {
    "colab": {
      "name": "Deception-Betrayal-EDA.ipynb",
      "provenance": []
    },
    "kernelspec": {
      "name": "python3",
      "display_name": "Python 3"
    },
    "language_info": {
      "name": "python"
    }
  },
  "cells": [
    {
      "cell_type": "markdown",
      "source": [
        "Install Convokit"
      ],
      "metadata": {
        "id": "XmSFhIA8j8Qc"
      }
    },
    {
      "cell_type": "code",
      "source": [
        "from google.colab import drive\n",
        "drive.mount('/content/drive')"
      ],
      "metadata": {
        "id": "FWh7uYWk99Qe"
      },
      "execution_count": null,
      "outputs": []
    },
    {
      "cell_type": "code",
      "execution_count": 4,
      "metadata": {
        "colab": {
          "base_uri": "https://localhost:8080/"
        },
        "id": "Ym-PFc7Ej2jq",
        "outputId": "f93abb06-d4d0-4794-cbf3-6256768ee76b"
      },
      "outputs": [
        {
          "output_type": "stream",
          "name": "stdout",
          "text": [
            "Looking in indexes: https://pypi.org/simple, https://us-python.pkg.dev/colab-wheels/public/simple/\n",
            "Collecting hatesonar\n",
            "  Downloading hatesonar-0.0.7-py3-none-any.whl (883 kB)\n",
            "\u001b[K     |████████████████████████████████| 883 kB 12.8 MB/s \n",
            "\u001b[?25hRequirement already satisfied: pandas>=0.22.0 in /usr/local/lib/python3.7/dist-packages (from hatesonar) (1.3.5)\n",
            "Requirement already satisfied: scikit-learn>=0.19.1 in /usr/local/lib/python3.7/dist-packages (from hatesonar) (1.0.2)\n",
            "Requirement already satisfied: numpy>=1.14.0 in /usr/local/lib/python3.7/dist-packages (from hatesonar) (1.21.6)\n",
            "Requirement already satisfied: scipy>=1.0.0 in /usr/local/lib/python3.7/dist-packages (from hatesonar) (1.4.1)\n",
            "Requirement already satisfied: joblib>=0.16.0 in /usr/local/lib/python3.7/dist-packages (from hatesonar) (1.1.0)\n",
            "Requirement already satisfied: pytz>=2017.3 in /usr/local/lib/python3.7/dist-packages (from pandas>=0.22.0->hatesonar) (2022.1)\n",
            "Requirement already satisfied: python-dateutil>=2.7.3 in /usr/local/lib/python3.7/dist-packages (from pandas>=0.22.0->hatesonar) (2.8.2)\n",
            "Requirement already satisfied: six>=1.5 in /usr/local/lib/python3.7/dist-packages (from python-dateutil>=2.7.3->pandas>=0.22.0->hatesonar) (1.15.0)\n",
            "Requirement already satisfied: threadpoolctl>=2.0.0 in /usr/local/lib/python3.7/dist-packages (from scikit-learn>=0.19.1->hatesonar) (3.1.0)\n",
            "Installing collected packages: hatesonar\n",
            "Successfully installed hatesonar-0.0.7\n"
          ]
        }
      ],
      "source": [
        "# Install relevant libraries and dependencies\n",
        "!pip install convokit\n",
        "!pip install readability\n",
        "!pip install hatesonar"
      ]
    },
    {
      "cell_type": "code",
      "source": [
        "#import libraries\n",
        "import warnings\n",
        "warnings.filterwarnings('ignore')\n",
        "import numpy as np\n",
        "import pandas as pd\n",
        "import matplotlib.pyplot as plt\n",
        "import seaborn as sns\n",
        "import statsmodels.api as sm\n",
        "\n",
        "# Importing the readability metric for scoring the comment/text complexity \n",
        "import readability \n",
        "\n",
        "\n",
        "sns.set_context(\"paper\", font_scale = 1, rc={\"grid.linewidth\": 3})\n",
        "pd.set_option('display.max_rows', 100, 'display.max_columns', 400)\n",
        "\n",
        "\n",
        "#Hate Speech Detection\n",
        "from hatesonar import Sonar\n",
        "\n",
        "#Convokit Corpus\n",
        "from convokit import Corpus, download"
      ],
      "metadata": {
        "id": "L2zhT1LAkr6X"
      },
      "execution_count": 5,
      "outputs": []
    },
    {
      "cell_type": "code",
      "source": [
        "#Download the HATE-SPEECH corpus\n",
        "corpus = Corpus(filename=download(\"diplomacy-corpus\"))"
      ],
      "metadata": {
        "colab": {
          "base_uri": "https://localhost:8080/"
        },
        "id": "hrvXVwTxlwuS",
        "outputId": "fccefc3f-4b75-4d00-a1fd-5d8008334d16"
      },
      "execution_count": 6,
      "outputs": [
        {
          "output_type": "stream",
          "name": "stdout",
          "text": [
            "Downloading diplomacy-corpus to /root/.convokit/downloads/diplomacy-corpus\n",
            "Downloading diplomacy-corpus from http://zissou.infosci.cornell.edu/convokit/datasets/diplomacy-corpus/diplomacy-corpus.zip (1.2MB)... Done\n"
          ]
        }
      ]
    },
    {
      "cell_type": "code",
      "source": [
        "#Quick Stats\n",
        "corpus.print_summary_stats()"
      ],
      "metadata": {
        "colab": {
          "base_uri": "https://localhost:8080/"
        },
        "id": "WrY5gXPWmFvw",
        "outputId": "16c0433a-269b-4497-8717-23619f90c09a"
      },
      "execution_count": 7,
      "outputs": [
        {
          "output_type": "stream",
          "name": "stdout",
          "text": [
            "Number of Speakers: 83\n",
            "Number of Utterances: 17289\n",
            "Number of Conversations: 246\n"
          ]
        }
      ]
    },
    {
      "cell_type": "code",
      "source": [
        "data = corpus.get_utterances_dataframe()\n",
        "data.head()"
      ],
      "metadata": {
        "colab": {
          "base_uri": "https://localhost:8080/",
          "height": 562
        },
        "id": "tz3JvXOemFn8",
        "outputId": "a3f6f543-dbb5-43e5-dc40-1daa6c5f1354"
      },
      "execution_count": 8,
      "outputs": [
        {
          "output_type": "execute_result",
          "data": {
            "text/plain": [
              "                      timestamp  \\\n",
              "id                                \n",
              "Game1-italy-germany-0        74   \n",
              "Game1-italy-germany-1        76   \n",
              "Game1-italy-germany-2        86   \n",
              "Game1-italy-germany-3        87   \n",
              "Game1-italy-germany-4        89   \n",
              "\n",
              "                                                                    text  \\\n",
              "id                                                                         \n",
              "Game1-italy-germany-0  Germany!\\n\\nJust the person I want to speak wi...   \n",
              "Game1-italy-germany-1  You've whet my appetite, Italy. What's the sug...   \n",
              "Game1-italy-germany-2                                                  👍   \n",
              "Game1-italy-germany-3  It seems like there are a lot of ways that cou...   \n",
              "Game1-italy-germany-4  Yeah, I can’t say I’ve tried it and it works, ...   \n",
              "\n",
              "                             speaker               reply_to  \\\n",
              "id                                                            \n",
              "Game1-italy-germany-0    italy-Game1                   None   \n",
              "Game1-italy-germany-1  germany-Game1  Game1-italy-germany-0   \n",
              "Game1-italy-germany-2    italy-Game1  Game1-italy-germany-1   \n",
              "Game1-italy-germany-3  germany-Game1  Game1-italy-germany-2   \n",
              "Game1-italy-germany-4    italy-Game1  Game1-italy-germany-3   \n",
              "\n",
              "                           conversation_id meta.speaker_intention  \\\n",
              "id                                                                  \n",
              "Game1-italy-germany-0  Game1-italy-germany                  Truth   \n",
              "Game1-italy-germany-1  Game1-italy-germany                  Truth   \n",
              "Game1-italy-germany-2  Game1-italy-germany                  Truth   \n",
              "Game1-italy-germany-3  Game1-italy-germany                  Truth   \n",
              "Game1-italy-germany-4  Game1-italy-germany                  Truth   \n",
              "\n",
              "                      meta.receiver_perception  meta.receiver  \\\n",
              "id                                                              \n",
              "Game1-italy-germany-0                    Truth  germany-Game1   \n",
              "Game1-italy-germany-1                    Truth    italy-Game1   \n",
              "Game1-italy-germany-2                    Truth  germany-Game1   \n",
              "Game1-italy-germany-3                    Truth    italy-Game1   \n",
              "Game1-italy-germany-4                     None  germany-Game1   \n",
              "\n",
              "                      meta.absolute_message_index meta.relative_message_index  \\\n",
              "id                                                                              \n",
              "Game1-italy-germany-0                          74                           0   \n",
              "Game1-italy-germany-1                          76                           1   \n",
              "Game1-italy-germany-2                          86                           2   \n",
              "Game1-italy-germany-3                          87                           3   \n",
              "Game1-italy-germany-4                          89                           4   \n",
              "\n",
              "                      meta.year meta.game_score meta.game_score_delta  \\\n",
              "id                                                                      \n",
              "Game1-italy-germany-0      1901               3                     0   \n",
              "Game1-italy-germany-1      1901               3                     0   \n",
              "Game1-italy-germany-2      1901               3                     0   \n",
              "Game1-italy-germany-3      1901               3                     0   \n",
              "Game1-italy-germany-4      1901               3                     0   \n",
              "\n",
              "                      meta.deception_quadrant vectors  \n",
              "id                                                     \n",
              "Game1-italy-germany-0         Straightforward      []  \n",
              "Game1-italy-germany-1         Straightforward      []  \n",
              "Game1-italy-germany-2         Straightforward      []  \n",
              "Game1-italy-germany-3         Straightforward      []  \n",
              "Game1-italy-germany-4                 Unknown      []  "
            ],
            "text/html": [
              "\n",
              "  <div id=\"df-3689ee16-46e6-4eaf-82ca-26ccbdbe3295\">\n",
              "    <div class=\"colab-df-container\">\n",
              "      <div>\n",
              "<style scoped>\n",
              "    .dataframe tbody tr th:only-of-type {\n",
              "        vertical-align: middle;\n",
              "    }\n",
              "\n",
              "    .dataframe tbody tr th {\n",
              "        vertical-align: top;\n",
              "    }\n",
              "\n",
              "    .dataframe thead th {\n",
              "        text-align: right;\n",
              "    }\n",
              "</style>\n",
              "<table border=\"1\" class=\"dataframe\">\n",
              "  <thead>\n",
              "    <tr style=\"text-align: right;\">\n",
              "      <th></th>\n",
              "      <th>timestamp</th>\n",
              "      <th>text</th>\n",
              "      <th>speaker</th>\n",
              "      <th>reply_to</th>\n",
              "      <th>conversation_id</th>\n",
              "      <th>meta.speaker_intention</th>\n",
              "      <th>meta.receiver_perception</th>\n",
              "      <th>meta.receiver</th>\n",
              "      <th>meta.absolute_message_index</th>\n",
              "      <th>meta.relative_message_index</th>\n",
              "      <th>meta.year</th>\n",
              "      <th>meta.game_score</th>\n",
              "      <th>meta.game_score_delta</th>\n",
              "      <th>meta.deception_quadrant</th>\n",
              "      <th>vectors</th>\n",
              "    </tr>\n",
              "    <tr>\n",
              "      <th>id</th>\n",
              "      <th></th>\n",
              "      <th></th>\n",
              "      <th></th>\n",
              "      <th></th>\n",
              "      <th></th>\n",
              "      <th></th>\n",
              "      <th></th>\n",
              "      <th></th>\n",
              "      <th></th>\n",
              "      <th></th>\n",
              "      <th></th>\n",
              "      <th></th>\n",
              "      <th></th>\n",
              "      <th></th>\n",
              "      <th></th>\n",
              "    </tr>\n",
              "  </thead>\n",
              "  <tbody>\n",
              "    <tr>\n",
              "      <th>Game1-italy-germany-0</th>\n",
              "      <td>74</td>\n",
              "      <td>Germany!\\n\\nJust the person I want to speak wi...</td>\n",
              "      <td>italy-Game1</td>\n",
              "      <td>None</td>\n",
              "      <td>Game1-italy-germany</td>\n",
              "      <td>Truth</td>\n",
              "      <td>Truth</td>\n",
              "      <td>germany-Game1</td>\n",
              "      <td>74</td>\n",
              "      <td>0</td>\n",
              "      <td>1901</td>\n",
              "      <td>3</td>\n",
              "      <td>0</td>\n",
              "      <td>Straightforward</td>\n",
              "      <td>[]</td>\n",
              "    </tr>\n",
              "    <tr>\n",
              "      <th>Game1-italy-germany-1</th>\n",
              "      <td>76</td>\n",
              "      <td>You've whet my appetite, Italy. What's the sug...</td>\n",
              "      <td>germany-Game1</td>\n",
              "      <td>Game1-italy-germany-0</td>\n",
              "      <td>Game1-italy-germany</td>\n",
              "      <td>Truth</td>\n",
              "      <td>Truth</td>\n",
              "      <td>italy-Game1</td>\n",
              "      <td>76</td>\n",
              "      <td>1</td>\n",
              "      <td>1901</td>\n",
              "      <td>3</td>\n",
              "      <td>0</td>\n",
              "      <td>Straightforward</td>\n",
              "      <td>[]</td>\n",
              "    </tr>\n",
              "    <tr>\n",
              "      <th>Game1-italy-germany-2</th>\n",
              "      <td>86</td>\n",
              "      <td>👍</td>\n",
              "      <td>italy-Game1</td>\n",
              "      <td>Game1-italy-germany-1</td>\n",
              "      <td>Game1-italy-germany</td>\n",
              "      <td>Truth</td>\n",
              "      <td>Truth</td>\n",
              "      <td>germany-Game1</td>\n",
              "      <td>86</td>\n",
              "      <td>2</td>\n",
              "      <td>1901</td>\n",
              "      <td>3</td>\n",
              "      <td>0</td>\n",
              "      <td>Straightforward</td>\n",
              "      <td>[]</td>\n",
              "    </tr>\n",
              "    <tr>\n",
              "      <th>Game1-italy-germany-3</th>\n",
              "      <td>87</td>\n",
              "      <td>It seems like there are a lot of ways that cou...</td>\n",
              "      <td>germany-Game1</td>\n",
              "      <td>Game1-italy-germany-2</td>\n",
              "      <td>Game1-italy-germany</td>\n",
              "      <td>Truth</td>\n",
              "      <td>Truth</td>\n",
              "      <td>italy-Game1</td>\n",
              "      <td>87</td>\n",
              "      <td>3</td>\n",
              "      <td>1901</td>\n",
              "      <td>3</td>\n",
              "      <td>0</td>\n",
              "      <td>Straightforward</td>\n",
              "      <td>[]</td>\n",
              "    </tr>\n",
              "    <tr>\n",
              "      <th>Game1-italy-germany-4</th>\n",
              "      <td>89</td>\n",
              "      <td>Yeah, I can’t say I’ve tried it and it works, ...</td>\n",
              "      <td>italy-Game1</td>\n",
              "      <td>Game1-italy-germany-3</td>\n",
              "      <td>Game1-italy-germany</td>\n",
              "      <td>Truth</td>\n",
              "      <td>None</td>\n",
              "      <td>germany-Game1</td>\n",
              "      <td>89</td>\n",
              "      <td>4</td>\n",
              "      <td>1901</td>\n",
              "      <td>3</td>\n",
              "      <td>0</td>\n",
              "      <td>Unknown</td>\n",
              "      <td>[]</td>\n",
              "    </tr>\n",
              "  </tbody>\n",
              "</table>\n",
              "</div>\n",
              "      <button class=\"colab-df-convert\" onclick=\"convertToInteractive('df-3689ee16-46e6-4eaf-82ca-26ccbdbe3295')\"\n",
              "              title=\"Convert this dataframe to an interactive table.\"\n",
              "              style=\"display:none;\">\n",
              "        \n",
              "  <svg xmlns=\"http://www.w3.org/2000/svg\" height=\"24px\"viewBox=\"0 0 24 24\"\n",
              "       width=\"24px\">\n",
              "    <path d=\"M0 0h24v24H0V0z\" fill=\"none\"/>\n",
              "    <path d=\"M18.56 5.44l.94 2.06.94-2.06 2.06-.94-2.06-.94-.94-2.06-.94 2.06-2.06.94zm-11 1L8.5 8.5l.94-2.06 2.06-.94-2.06-.94L8.5 2.5l-.94 2.06-2.06.94zm10 10l.94 2.06.94-2.06 2.06-.94-2.06-.94-.94-2.06-.94 2.06-2.06.94z\"/><path d=\"M17.41 7.96l-1.37-1.37c-.4-.4-.92-.59-1.43-.59-.52 0-1.04.2-1.43.59L10.3 9.45l-7.72 7.72c-.78.78-.78 2.05 0 2.83L4 21.41c.39.39.9.59 1.41.59.51 0 1.02-.2 1.41-.59l7.78-7.78 2.81-2.81c.8-.78.8-2.07 0-2.86zM5.41 20L4 18.59l7.72-7.72 1.47 1.35L5.41 20z\"/>\n",
              "  </svg>\n",
              "      </button>\n",
              "      \n",
              "  <style>\n",
              "    .colab-df-container {\n",
              "      display:flex;\n",
              "      flex-wrap:wrap;\n",
              "      gap: 12px;\n",
              "    }\n",
              "\n",
              "    .colab-df-convert {\n",
              "      background-color: #E8F0FE;\n",
              "      border: none;\n",
              "      border-radius: 50%;\n",
              "      cursor: pointer;\n",
              "      display: none;\n",
              "      fill: #1967D2;\n",
              "      height: 32px;\n",
              "      padding: 0 0 0 0;\n",
              "      width: 32px;\n",
              "    }\n",
              "\n",
              "    .colab-df-convert:hover {\n",
              "      background-color: #E2EBFA;\n",
              "      box-shadow: 0px 1px 2px rgba(60, 64, 67, 0.3), 0px 1px 3px 1px rgba(60, 64, 67, 0.15);\n",
              "      fill: #174EA6;\n",
              "    }\n",
              "\n",
              "    [theme=dark] .colab-df-convert {\n",
              "      background-color: #3B4455;\n",
              "      fill: #D2E3FC;\n",
              "    }\n",
              "\n",
              "    [theme=dark] .colab-df-convert:hover {\n",
              "      background-color: #434B5C;\n",
              "      box-shadow: 0px 1px 3px 1px rgba(0, 0, 0, 0.15);\n",
              "      filter: drop-shadow(0px 1px 2px rgba(0, 0, 0, 0.3));\n",
              "      fill: #FFFFFF;\n",
              "    }\n",
              "  </style>\n",
              "\n",
              "      <script>\n",
              "        const buttonEl =\n",
              "          document.querySelector('#df-3689ee16-46e6-4eaf-82ca-26ccbdbe3295 button.colab-df-convert');\n",
              "        buttonEl.style.display =\n",
              "          google.colab.kernel.accessAllowed ? 'block' : 'none';\n",
              "\n",
              "        async function convertToInteractive(key) {\n",
              "          const element = document.querySelector('#df-3689ee16-46e6-4eaf-82ca-26ccbdbe3295');\n",
              "          const dataTable =\n",
              "            await google.colab.kernel.invokeFunction('convertToInteractive',\n",
              "                                                     [key], {});\n",
              "          if (!dataTable) return;\n",
              "\n",
              "          const docLinkHtml = 'Like what you see? Visit the ' +\n",
              "            '<a target=\"_blank\" href=https://colab.research.google.com/notebooks/data_table.ipynb>data table notebook</a>'\n",
              "            + ' to learn more about interactive tables.';\n",
              "          element.innerHTML = '';\n",
              "          dataTable['output_type'] = 'display_data';\n",
              "          await google.colab.output.renderOutput(dataTable, element);\n",
              "          const docLink = document.createElement('div');\n",
              "          docLink.innerHTML = docLinkHtml;\n",
              "          element.appendChild(docLink);\n",
              "        }\n",
              "      </script>\n",
              "    </div>\n",
              "  </div>\n",
              "  "
            ]
          },
          "metadata": {},
          "execution_count": 8
        }
      ]
    },
    {
      "cell_type": "markdown",
      "source": [
        "Visualization Plots"
      ],
      "metadata": {
        "id": "zA26FkdUQi6q"
      }
    },
    {
      "cell_type": "markdown",
      "source": [
        "1. Perform and plot the analysis of variables that have been given in the paper. \n",
        "2. Reproduce them\n",
        "3. Do study of your own - Follow the plots"
      ],
      "metadata": {
        "id": "cALHWorSSOjr"
      }
    },
    {
      "cell_type": "code",
      "source": [
        "# Compute readability metrics of the data \n",
        "data['readability'] = readability.getmeasures(data['text'], lang='en')['readability grades']['Kincaid']\n",
        "\n",
        "# Compute average Kincaid Grade level\n",
        "print(data['readability'].mean())\n",
        "\n",
        "# Clean the data. Though the metric is not of much use "
      ],
      "metadata": {
        "colab": {
          "base_uri": "https://localhost:8080/"
        },
        "id": "YxFNiPoK_-Nt",
        "outputId": "b5206f30-503c-4009-d73b-25207c10dd7a"
      },
      "execution_count": 11,
      "outputs": [
        {
          "output_type": "stream",
          "name": "stdout",
          "text": [
            "6.148031190062359\n"
          ]
        }
      ]
    },
    {
      "cell_type": "code",
      "source": [
        "data['readability'].value_counts()"
      ],
      "metadata": {
        "colab": {
          "base_uri": "https://localhost:8080/"
        },
        "id": "fxrYyhuvCqqN",
        "outputId": "f68e5844-b1ef-4cbf-cfcc-039c24c5599b"
      },
      "execution_count": 15,
      "outputs": [
        {
          "output_type": "execute_result",
          "data": {
            "text/plain": [
              "6.148031    17289\n",
              "Name: readability, dtype: int64"
            ]
          },
          "metadata": {},
          "execution_count": 15
        }
      ]
    },
    {
      "cell_type": "code",
      "source": [
        "data.iloc[25, ]"
      ],
      "metadata": {
        "colab": {
          "base_uri": "https://localhost:8080/"
        },
        "id": "Ar_nSQCvvKFU",
        "outputId": "2f2cf706-315e-41c9-d4bf-6f6fd1fcf20b"
      },
      "execution_count": null,
      "outputs": [
        {
          "output_type": "execute_result",
          "data": {
            "text/plain": [
              "timestamp                                                                    341\n",
              "text                           How are things going with England? I think tha...\n",
              "speaker                                                              italy-Game1\n",
              "reply_to                                                  Game1-italy-germany-24\n",
              "conversation_id                                              Game1-italy-germany\n",
              "meta.speaker_intention                                                     Truth\n",
              "meta.receiver_perception                                                   Truth\n",
              "meta.receiver                                                      germany-Game1\n",
              "meta.absolute_message_index                                                  341\n",
              "meta.relative_message_index                                                   25\n",
              "meta.year                                                                   1901\n",
              "meta.game_score                                                                4\n",
              "meta.game_score_delta                                                         -1\n",
              "meta.deception_quadrant                                          Straightforward\n",
              "vectors                                                                       []\n",
              "Word_Count                                                                    98\n",
              "Name: Game1-italy-germany-25, dtype: object"
            ]
          },
          "metadata": {},
          "execution_count": 65
        }
      ]
    },
    {
      "cell_type": "code",
      "source": [
        "#Study the distribution of deception quadrant\n",
        "sns.displot(data.dropna(axis=0, how='all'), x='meta.deception_quadrant', hue='meta.deception_quadrant')\n",
        "plt.show()"
      ],
      "metadata": {
        "colab": {
          "base_uri": "https://localhost:8080/",
          "height": 370
        },
        "id": "ooN7oBf-oZLI",
        "outputId": "f817bb8c-7858-4aac-ecf3-91aa069b3bbd"
      },
      "execution_count": null,
      "outputs": [
        {
          "output_type": "display_data",
          "data": {
            "text/plain": [
              "<Figure size 491.915x360 with 1 Axes>"
            ],
            "image/png": "[encoded data removed]"
          },
          "metadata": {
            "needs_background": "light"
          }
        }
      ]
    },
    {
      "cell_type": "code",
      "source": [
        "# EDA for all games\n",
        "# Message Count\n",
        "print(f\"Message Count - {data.shape[0]}\")\n",
        "\n",
        "# Actual Lie Count\n",
        "data_act_lie = data[(data['meta.speaker_intention']=='Lie')]\n",
        "print(f\"Actual Lie Count - {data_act_lie.shape[0]}\")\n",
        "\n",
        "#Suspected Lie Count\n",
        "data_sus = data[data['meta.speaker_intention'] == 'Truth']\n",
        "data_sus_lie = data_sus[data_sus['meta.receiver_perception'] == 'Lie']\n",
        "print(f\"Suspected Lie Count - {data_sus_lie.shape[0]}\")\n",
        "\n",
        "#Average Word Count\n",
        "data_length=data['text'].apply(lambda sent : len(sent))\n",
        "print(f\"Average Word Count - {(data_length.values.sum())/len(data):.2f}\")"
      ],
      "metadata": {
        "colab": {
          "base_uri": "https://localhost:8080/"
        },
        "id": "Qmi5ZQuyTjGN",
        "outputId": "419ece7c-2196-4e16-8b2b-f794aba226bb"
      },
      "execution_count": null,
      "outputs": [
        {
          "output_type": "stream",
          "name": "stdout",
          "text": [
            "Message Count - 17289\n",
            "Actual Lie Count - 887\n",
            "Suspected Lie Count - 667\n",
            "Average Word Count - 105.08\n"
          ]
        }
      ]
    },
    {
      "cell_type": "code",
      "source": [
        "#A lie-lie statement\n",
        "data_caught = data_act_lie[data_act_lie['meta.receiver_perception']=='Lie']\n",
        "data_caught['text'][0]"
      ],
      "metadata": {
        "colab": {
          "base_uri": "https://localhost:8080/",
          "height": 35
        },
        "id": "-2i768_MxICj",
        "outputId": "cb3c4cbe-775b-4917-a684-6ef9eb99bde3"
      },
      "execution_count": null,
      "outputs": [
        {
          "output_type": "execute_result",
          "data": {
            "text/plain": [
              "'I give you my word: I don’t know what England is going to do and I haven’t asked.'"
            ],
            "application/vnd.google.colaboratory.intrinsic+json": {
              "type": "string"
            }
          },
          "metadata": {},
          "execution_count": 69
        }
      ]
    },
    {
      "cell_type": "code",
      "source": [
        "# Distribution of Word Count per message\n",
        "data_length.plot.hist(grid=False)"
      ],
      "metadata": {
        "colab": {
          "base_uri": "https://localhost:8080/",
          "height": 283
        },
        "id": "2gxGnOnBdnc2",
        "outputId": "93da10a6-519b-42c0-fd2e-2a53cd7cd6bb"
      },
      "execution_count": null,
      "outputs": [
        {
          "output_type": "execute_result",
          "data": {
            "text/plain": [
              "<matplotlib.axes._subplots.AxesSubplot at 0x7f212196db50>"
            ]
          },
          "metadata": {},
          "execution_count": 58
        },
        {
          "output_type": "display_data",
          "data": {
            "text/plain": [
              "<Figure size 432x288 with 1 Axes>"
            ],
            "image/png": "[encoded data removed]"
          },
          "metadata": {
            "needs_background": "light"
          }
        }
      ]
    },
    {
      "cell_type": "code",
      "source": [
        "#Word Count of Text by Speaker's perception\n",
        "data['Word_Count'] = data['text'].apply(lambda sent : len(sent))\n",
        "plt.figure(figsize=(10, 15))\n",
        "sns.displot(data.dropna(axis=0, how='all'), x='Word_Count', hue='meta.speaker_intention', multiple='stack', bins=[i for i in range(0, 2000, 100)])\n",
        "plt.show()"
      ],
      "metadata": {
        "colab": {
          "base_uri": "https://localhost:8080/",
          "height": 387
        },
        "id": "QIUby9fhRjsb",
        "outputId": "8a78ee40-d026-4c89-ae12-c6648343430b"
      },
      "execution_count": null,
      "outputs": [
        {
          "output_type": "display_data",
          "data": {
            "text/plain": [
              "<Figure size 720x1080 with 0 Axes>"
            ]
          },
          "metadata": {}
        },
        {
          "output_type": "display_data",
          "data": {
            "text/plain": [
              "<Figure size 481.165x360 with 1 Axes>"
            ],
            "image/png": "[encoded data removed]"
          },
          "metadata": {
            "needs_background": "light"
          }
        }
      ]
    },
    {
      "cell_type": "code",
      "source": [
        "#Word Count of Text by Receiver's perception\n",
        "data['Word_Count'] = data['text'].apply(lambda sent : len(sent))\n",
        "plt.figure(figsize=(10, 15))\n",
        "sns.displot(data.dropna(axis=0, how='all'), x='Word_Count', hue='meta.receiver_perception', multiple='stack', bins=[i for i in range(0, 2000, 100)])\n",
        "plt.show()"
      ],
      "metadata": {
        "colab": {
          "base_uri": "https://localhost:8080/",
          "height": 387
        },
        "id": "EZuerFq-dWp8",
        "outputId": "2825a156-8349-46f0-f4fe-03f1b073ecfb"
      },
      "execution_count": null,
      "outputs": [
        {
          "output_type": "display_data",
          "data": {
            "text/plain": [
              "<Figure size 720x1080 with 0 Axes>"
            ]
          },
          "metadata": {}
        },
        {
          "output_type": "display_data",
          "data": {
            "text/plain": [
              "<Figure size 490.54x360 with 1 Axes>"
            ],
            "image/png": "[encoded data removed]"
          },
          "metadata": {
            "needs_background": "light"
          }
        }
      ]
    }
  ]
}